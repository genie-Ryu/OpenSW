{
 "cells": [
  {
   "cell_type": "code",
   "execution_count": 44,
   "id": "dd817abd",
   "metadata": {},
   "outputs": [
    {
     "name": "stdout",
     "output_type": "stream",
     "text": [
      "파이썬 2\n",
      "파일 2\n",
      "읽기 2\n",
      "예제입니다. 2\n",
      "다양한 1\n",
      "메소드를 1\n",
      "공부해 1\n",
      "보세요. 1\n",
      "실력이 1\n",
      "팍팍 1\n",
      "늘 1\n",
      "거예요~ 1\n",
      "단어 1\n",
      "수를 1\n",
      "카운트하는 1\n",
      "실습 1\n"
     ]
    }
   ],
   "source": [
    "# 실습 1)\n",
    "# txt 파일의 단어 수를 계산하여 출력하는 프로그램 작성\n",
    "\n",
    "f = open('README.txt', 'r', encoding = 'utf8')\n",
    "dic = {}\n",
    "\n",
    "for line in f:\n",
    "    words = line.strip().split(\" \")\n",
    "    for word in words:\n",
    "        if word in dic.keys():\n",
    "            dic[word] += 1\n",
    "        else:\n",
    "            dic[word] = 1\n",
    "\n",
    "for key in dic.keys():\n",
    "    print(key, dic[key])\n",
    "\n",
    "\n",
    "f.close()"
   ]
  },
  {
   "cell_type": "code",
   "execution_count": 45,
   "id": "9d287f9d",
   "metadata": {},
   "outputs": [
    {
     "name": "stdout",
     "output_type": "stream",
     "text": [
      "(0, 0)\n",
      "(1, 4)\n",
      "(3, 4)\n",
      "좌상단 포인트 : (0, 0)\n",
      "우하단 포인트 : (1, 1)\n",
      "좌상단 포인트 : (2, 2)\n",
      "우하단 포인트 : (3, 3)\n",
      "좌상단 포인트 : (3.1, 3.1)\n",
      "우하단 포인트 : (4.1, 4.1)\n"
     ]
    }
   ],
   "source": [
    "# 실습 2)\n",
    "# Point 클래스와 이를 상속 받은 Box 클래스를 작성하시오\n",
    "\n",
    "class Point:\n",
    "    x = 0\n",
    "    y = 0\n",
    "    \n",
    "    def __init__(self, x = 0, y = 0):\n",
    "        self.x = x\n",
    "        self.y = y\n",
    "    \n",
    "    def move(self, dx, dy):\n",
    "        self.x += dx\n",
    "        self.y += dy\n",
    "    \n",
    "    def show(self):\n",
    "        print(f\"({self.x}, {self.y})\")\n",
    "    \n",
    "    \n",
    "class Box(Point):\n",
    "    # p1: 좌상단 포인트 / p2: 우하단 포인트\n",
    "    \n",
    "    \n",
    "    def __init__(self, p1 = Point(0, 0), p2 = Point(1, 1)):\n",
    "        self.p1 = p1\n",
    "        self.p2 = p2\n",
    "    \n",
    "    def move(self, dx, dy):\n",
    "        self.p1.move(dx, dy)\n",
    "        self.p2.move(dx, dy)\n",
    "    \n",
    "    def show(self):\n",
    "        print(\"좌상단 포인트 : \", end = '')\n",
    "        self.p1.show()\n",
    "        print(\"우하단 포인트 : \", end = '')\n",
    "        self.p2.show()\n",
    "        \n",
    "        \n",
    "# 부모 클래스 테스트    \n",
    "point1 = Point()\n",
    "point2 = Point(1, 4)\n",
    "point1.show()\n",
    "point2.show()\n",
    "point1.move(3, 4)\n",
    "point1.show()\n",
    "\n",
    "# 자식 클래스 테스트\n",
    "box1 = Box()\n",
    "box2 = Box(Point(2, 2), Point(3, 3))\n",
    "box1.show()\n",
    "box2.show()\n",
    "box2.move(1.1, 1.1)\n",
    "box2.show()"
   ]
  }
 ],
 "metadata": {
  "kernelspec": {
   "display_name": "Python 3",
   "language": "python",
   "name": "python3"
  },
  "language_info": {
   "codemirror_mode": {
    "name": "ipython",
    "version": 3
   },
   "file_extension": ".py",
   "mimetype": "text/x-python",
   "name": "python",
   "nbconvert_exporter": "python",
   "pygments_lexer": "ipython3",
   "version": "3.8.8"
  }
 },
 "nbformat": 4,
 "nbformat_minor": 5
}
