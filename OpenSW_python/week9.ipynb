{
 "cells": [
  {
   "cell_type": "markdown",
   "id": "e3f5e74c",
   "metadata": {},
   "source": [
    "## 09주차 실습"
   ]
  },
  {
   "cell_type": "code",
   "execution_count": 2,
   "id": "5d37489b",
   "metadata": {},
   "outputs": [
    {
     "name": "stdout",
     "output_type": "stream",
     "text": [
      "7 시간 36 분\n"
     ]
    }
   ],
   "source": [
    "# 실습 01\n",
    "# 456 분은 몇 시간 몇 분인지 계산하시오.\n",
    "\n",
    "m = 456\n",
    "hour = 456 // 60\n",
    "minute = 456 % 60\n",
    "print(hour, '시간', minute, '분')"
   ]
  },
  {
   "cell_type": "code",
   "execution_count": 4,
   "id": "9aa94608",
   "metadata": {},
   "outputs": [
    {
     "name": "stdout",
     "output_type": "stream",
     "text": [
      "['김철수', '이영희', '임꺽정', '홍길동']\n",
      "김철수 2.8\n"
     ]
    }
   ],
   "source": [
    "# 실습 02\n",
    "# 학점 데이터를 딕셔너리에 저장 후, 이름 순으로 첫 번째 학생의 학점을 출력하시오.\n",
    "\n",
    "scores = {\"홍길동\":3.4, \"임꺽정\":4.0, \"김철수\":2.8, \"이영희\":3.9}\n",
    "key_list = list(scores.keys())\n",
    "key_list.sort()\n",
    "print(key_list)\n",
    "\n",
    "key = key_list[0]\n",
    "value = scores[key]\n",
    "print(key, value)"
   ]
  }
 ],
 "metadata": {
  "kernelspec": {
   "display_name": "Python 3",
   "language": "python",
   "name": "python3"
  },
  "language_info": {
   "codemirror_mode": {
    "name": "ipython",
    "version": 3
   },
   "file_extension": ".py",
   "mimetype": "text/x-python",
   "name": "python",
   "nbconvert_exporter": "python",
   "pygments_lexer": "ipython3",
   "version": "3.8.8"
  }
 },
 "nbformat": 4,
 "nbformat_minor": 5
}
